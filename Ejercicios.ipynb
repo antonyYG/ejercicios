{
  "nbformat": 4,
  "nbformat_minor": 0,
  "metadata": {
    "colab": {
      "provenance": [],
      "authorship_tag": "ABX9TyOcrKB71NjGsUvx7X5fIz4u",
      "include_colab_link": true
    },
    "kernelspec": {
      "name": "python3",
      "display_name": "Python 3"
    },
    "language_info": {
      "name": "python"
    }
  },
  "cells": [
    {
      "cell_type": "markdown",
      "metadata": {
        "id": "view-in-github",
        "colab_type": "text"
      },
      "source": [
        "<a href=\"https://colab.research.google.com/github/antonyYG/ejercicios/blob/main/Ejercicios.ipynb\" target=\"_parent\"><img src=\"https://colab.research.google.com/assets/colab-badge.svg\" alt=\"Open In Colab\"/></a>"
      ]
    },
    {
      "cell_type": "code",
      "execution_count": null,
      "metadata": {
        "id": "IUImYlTVI97c"
      },
      "outputs": [],
      "source": []
    },
    {
      "cell_type": "markdown",
      "source": [
        "Ejercicio 1"
      ],
      "metadata": {
        "id": "BfRng34XJRgj"
      }
    },
    {
      "cell_type": "code",
      "source": [
        "import numpy as np\n",
        "asignaturas=np.array(['Matematica','Fisica','Quimica','Historia','Lengua'])\n",
        "np.savetxt('Ejercicio 1.txt',asignaturas, fmt='%s')"
      ],
      "metadata": {
        "id": "_juyg4xzJTBK"
      },
      "execution_count": 31,
      "outputs": []
    },
    {
      "cell_type": "markdown",
      "source": [
        "Ejercicio 2"
      ],
      "metadata": {
        "id": "y5FPyeF8LKxr"
      }
    },
    {
      "cell_type": "code",
      "source": [
        "asignaturas=np.array(['Matematica','Fisica','Quimica','Historia','Lengua'])\n",
        "men = \"Yo esudio\",asignaturas[np.random.randint(2)]\n",
        "print(men)\n",
        "np.savetxt('Ejercicio 2.txt',men,fmt='%s')"
      ],
      "metadata": {
        "colab": {
          "base_uri": "https://localhost:8080/"
        },
        "id": "Gz3Ql74eLamy",
        "outputId": "9cb9b9d5-8fa8-4c03-c66e-e0f49ef44efb"
      },
      "execution_count": 39,
      "outputs": [
        {
          "output_type": "stream",
          "name": "stdout",
          "text": [
            "('Yo esudio', np.str_('Matematica'))\n"
          ]
        }
      ]
    },
    {
      "cell_type": "markdown",
      "source": [
        "Ejercicio 3"
      ],
      "metadata": {
        "id": "vFlGG4CbM9QL"
      }
    },
    {
      "cell_type": "code",
      "source": [
        "asignaturas=np.array(['Matematica','Fisica','Quimica','Historia','Lengua'])\n",
        "notas = np.zeros(len(asignaturas))\n"
      ],
      "metadata": {
        "colab": {
          "base_uri": "https://localhost:8080/"
        },
        "id": "BZLNriQUNes5",
        "outputId": "9cd0112f-4b7e-49c2-bf95-e385643d0e78"
      },
      "execution_count": 40,
      "outputs": [
        {
          "output_type": "stream",
          "name": "stdout",
          "text": [
            "[0. 0. 0. 0. 0.]\n"
          ]
        }
      ]
    }
  ]
}