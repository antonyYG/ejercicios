{
  "nbformat": 4,
  "nbformat_minor": 0,
  "metadata": {
    "colab": {
      "provenance": [],
      "authorship_tag": "ABX9TyPxb8jODHaZjh1PHAOmIRi7",
      "include_colab_link": true
    },
    "kernelspec": {
      "name": "python3",
      "display_name": "Python 3"
    },
    "language_info": {
      "name": "python"
    }
  },
  "cells": [
    {
      "cell_type": "markdown",
      "metadata": {
        "id": "view-in-github",
        "colab_type": "text"
      },
      "source": [
        "<a href=\"https://colab.research.google.com/github/antonyYG/ejercicios/blob/main/Ejercicios.ipynb\" target=\"_parent\"><img src=\"https://colab.research.google.com/assets/colab-badge.svg\" alt=\"Open In Colab\"/></a>"
      ]
    },
    {
      "cell_type": "code",
      "execution_count": null,
      "metadata": {
        "id": "IUImYlTVI97c"
      },
      "outputs": [],
      "source": []
    },
    {
      "cell_type": "markdown",
      "source": [
        "Ejercicio 1"
      ],
      "metadata": {
        "id": "BfRng34XJRgj"
      }
    },
    {
      "cell_type": "code",
      "source": [
        "import numpy as np\n",
        "asignaturas=np.array(['Matematica','Fisica','Quimica','Historia','Lengua'])\n",
        "np.savetxt('Ejercicio 1.txt',asignaturas, fmt='%s')"
      ],
      "metadata": {
        "id": "_juyg4xzJTBK"
      },
      "execution_count": 31,
      "outputs": []
    },
    {
      "cell_type": "markdown",
      "source": [
        "Ejercicio 2"
      ],
      "metadata": {
        "id": "y5FPyeF8LKxr"
      }
    },
    {
      "cell_type": "code",
      "source": [
        "asignaturas=np.array(['Matematica','Fisica','Quimica','Historia','Lengua'])\n",
        "men = \"Yo esudio\",asignaturas[np.random.randint(2)]\n",
        "print(men)\n",
        "np.savetxt('Ejercicio 2.txt',men,fmt='%s')"
      ],
      "metadata": {
        "colab": {
          "base_uri": "https://localhost:8080/"
        },
        "id": "Gz3Ql74eLamy",
        "outputId": "9cb9b9d5-8fa8-4c03-c66e-e0f49ef44efb"
      },
      "execution_count": 39,
      "outputs": [
        {
          "output_type": "stream",
          "name": "stdout",
          "text": [
            "('Yo esudio', np.str_('Matematica'))\n"
          ]
        }
      ]
    },
    {
      "cell_type": "markdown",
      "source": [
        "Ejercicio 3"
      ],
      "metadata": {
        "id": "vFlGG4CbM9QL"
      }
    },
    {
      "cell_type": "code",
      "source": [
        "asignaturas=np.array(['Matematica','Fisica','Quimica','Historia','Lengua'])\n",
        "notas = np.zeros(len(asignaturas))\n",
        "for i, asignatura in enumerate(asignaturas):\n",
        "    nota = float(input(f\"Introduce la nota de {asignatura}: \"))\n",
        "    notas[i] = nota\n",
        "for asignatura, nota in zip(asignaturas, notas):\n",
        "    print(f\"En {asignatura} has sacado {nota}\")"
      ],
      "metadata": {
        "colab": {
          "base_uri": "https://localhost:8080/"
        },
        "id": "BZLNriQUNes5",
        "outputId": "90cd96e3-2440-44d3-a22c-726c69334da8"
      },
      "execution_count": 44,
      "outputs": [
        {
          "output_type": "stream",
          "name": "stdout",
          "text": [
            "Introduce la nota de Matematica: 12\n",
            "Introduce la nota de Fisica: 3\n",
            "Introduce la nota de Quimica: 4\n",
            "Introduce la nota de Historia: 41\n",
            "Introduce la nota de Lengua: 12\n",
            "En Matematica has sacado 12.0\n",
            "En Fisica has sacado 3.0\n",
            "En Quimica has sacado 4.0\n",
            "En Historia has sacado 41.0\n",
            "En Lengua has sacado 12.0\n",
            "En Matematica has sacado 12.0\n",
            "En Fisica has sacado 3.0\n",
            "En Quimica has sacado 4.0\n",
            "En Historia has sacado 41.0\n",
            "En Lengua has sacado 12.0\n"
          ]
        }
      ]
    },
    {
      "cell_type": "markdown",
      "source": [
        "Ejercicio 4"
      ],
      "metadata": {
        "id": "aAoQqG7oRnog"
      }
    },
    {
      "cell_type": "code",
      "source": [
        "loteria = np.array([])\n",
        "for i in range(5):\n",
        "  a = np.array([int(input(f\"Introduce el numero {i+1}:\"))])\n",
        "  loteria = np.append(loteria, a)\n",
        "  loteria_ordenada = np.sort(loteria)\n",
        "\n",
        "print(loteria_ordenada)"
      ],
      "metadata": {
        "colab": {
          "base_uri": "https://localhost:8080/"
        },
        "id": "aPvIJyfcRpKI",
        "outputId": "0ae6d7f4-0d69-4378-c6e6-59264f41b214"
      },
      "execution_count": 59,
      "outputs": [
        {
          "output_type": "stream",
          "name": "stdout",
          "text": [
            "Introduce el numero 1:12\n",
            "Introduce el numero 2:13\n",
            "Introduce el numero 3:14\n",
            "Introduce el numero 4:15\n",
            "Introduce el numero 5:16\n",
            "[12. 13. 14. 15. 16.]\n"
          ]
        }
      ]
    },
    {
      "cell_type": "markdown",
      "source": [
        "Ejercicio 5"
      ],
      "metadata": {
        "id": "l4q32l6VT-G4"
      }
    },
    {
      "cell_type": "code",
      "source": [
        "arreglo = np.arange(1,11)\n",
        "arreglo_inverso = arreglo[::-1]\n",
        "arreglo_inverso\n",
        "np.savetxt('Ejercicio 5.txt',arreglo_inverso,fmt='%s',delimiter=\",\")"
      ],
      "metadata": {
        "id": "kQDTT0x9T_Sn"
      },
      "execution_count": 68,
      "outputs": []
    },
    {
      "cell_type": "markdown",
      "source": [
        "Ejercicio 6\n"
      ],
      "metadata": {
        "id": "Ve6Jpe-fU0mH"
      }
    },
    {
      "cell_type": "code",
      "source": [
        "asignaturas = np.array([\"Matemáticas\", \"Física\", \"Química\", \"Historia\", \"Lengua\"])\n",
        "notas = np.zeros(len(asignaturas))\n",
        "\n",
        "for i, asignatura in enumerate(asignaturas):\n",
        "        nota = float(input(f\"Introduce la nota de {asignatura}: \"))\n",
        "        if 0 <= nota <= 210:\n",
        "            notas[i] = nota\n",
        "asignaturas_repetir = asignaturas[notas < 5]\n",
        "\n",
        "if len(asignaturas_repetir) > 0:\n",
        "    print(\"\\nTienes que repetir las siguientes asignaturas:\")\n",
        "    for asignatura in asignaturas_repetir:\n",
        "        print(asignatura)\n",
        "else:\n",
        "    print(\"\\n¡Enhorabuena! Has aprobado todas las asignaturas.\")"
      ],
      "metadata": {
        "colab": {
          "base_uri": "https://localhost:8080/"
        },
        "id": "ByZVISzuU2xn",
        "outputId": "526f13ce-fbcf-47c0-f671-b25c2fb1b6fb"
      },
      "execution_count": 74,
      "outputs": [
        {
          "output_type": "stream",
          "name": "stdout",
          "text": [
            "Introduce la nota de Matemáticas: 12\n",
            "Introduce la nota de Física: 13\n",
            "Introduce la nota de Química: 14\n",
            "Introduce la nota de Historia: 14\n",
            "Introduce la nota de Lengua: 14\n",
            "\n",
            "¡Enhorabuena! Has aprobado todas las asignaturas.\n"
          ]
        }
      ]
    },
    {
      "cell_type": "markdown",
      "source": [
        "Ejercicio 7\n"
      ],
      "metadata": {
        "id": "g7hiG5B-WN33"
      }
    },
    {
      "cell_type": "code",
      "source": [
        "import string\n",
        "abecedario = np.array(list(string.ascii_lowercase))\n",
        "indices_a_eliminar = np.arange(0, len(abecedario), 3)\n",
        "abecedario_filtrado = np.delete(abecedario, indices_a_eliminar)\n",
        "\n",
        "print(\"Abecedario original:\", abecedario)\n",
        "print(\"Abecedario tras eliminar múltiplos de 3:\", abecedario_filtrado)\n",
        "np.savetxt('Ejercicio 7.txt',abecedario_filtrado,fmt='%s')"
      ],
      "metadata": {
        "colab": {
          "base_uri": "https://localhost:8080/"
        },
        "id": "cEWVFSqNWPWv",
        "outputId": "bf49eb9d-f003-4859-9e23-bea6f2e644c3"
      },
      "execution_count": 80,
      "outputs": [
        {
          "output_type": "stream",
          "name": "stdout",
          "text": [
            "Abecedario original: ['a' 'b' 'c' 'd' 'e' 'f' 'g' 'h' 'i' 'j' 'k' 'l' 'm' 'n' 'o' 'p' 'q' 'r'\n",
            " 's' 't' 'u' 'v' 'w' 'x' 'y' 'z']\n",
            "Abecedario tras eliminar múltiplos de 3: ['b' 'c' 'e' 'f' 'h' 'i' 'k' 'l' 'n' 'o' 'q' 'r' 't' 'u' 'w' 'x' 'z']\n"
          ]
        }
      ]
    },
    {
      "cell_type": "markdown",
      "source": [
        "Ejercicio 8\n"
      ],
      "metadata": {
        "id": "uzFM2OHDXuk_"
      }
    },
    {
      "cell_type": "code",
      "source": [
        "palabra = input(\"Introduce una palabra: \")\n",
        "array_palabra = np.array(list(palabra))\n",
        "if np.array_equal(array_palabra, array_palabra[::-1]):\n",
        "    mensaje=\"La palabra es un palíndromo.\"\n",
        "else:\n",
        "    mensaje=\"La palabra no es un palíndromo.\"\n",
        "print(mensaje)"
      ],
      "metadata": {
        "colab": {
          "base_uri": "https://localhost:8080/"
        },
        "id": "hF3mc2KdXwXv",
        "outputId": "ec27211c-b5e9-450f-a8f1-a9876d894ed1"
      },
      "execution_count": 84,
      "outputs": [
        {
          "output_type": "stream",
          "name": "stdout",
          "text": [
            "Introduce una palabra: oto\n",
            "La palabra es un palíndromo.\n"
          ]
        }
      ]
    },
    {
      "cell_type": "markdown",
      "source": [
        "Ejercicio 9"
      ],
      "metadata": {
        "id": "gsQzvqUiYfhI"
      }
    },
    {
      "cell_type": "code",
      "source": [
        "palabra = input(\"Introduce una palabra\")\n",
        "array_palabra = np.array(list(palabra))\n",
        "vocales = np.array(['a', 'e', 'i', 'o', 'u'])\n",
        "for vocal in vocales:\n",
        "    cuenta = np.sum(array_palabra == vocal)\n",
        "    print(f\"La vocal '{vocal}' aparece {cuenta} veces.\")\n"
      ],
      "metadata": {
        "colab": {
          "base_uri": "https://localhost:8080/"
        },
        "id": "HMnZwsm_YhIg",
        "outputId": "4b051c60-58d6-4a51-8c07-9e3481bec70b"
      },
      "execution_count": 87,
      "outputs": [
        {
          "output_type": "stream",
          "name": "stdout",
          "text": [
            "Introduce una palabrapepe\n",
            "La vocal 'a' aparece 0 veces.\n",
            "La vocal 'e' aparece 2 veces.\n",
            "La vocal 'i' aparece 0 veces.\n",
            "La vocal 'o' aparece 0 veces.\n",
            "La vocal 'u' aparece 0 veces.\n"
          ]
        }
      ]
    },
    {
      "cell_type": "markdown",
      "source": [
        "Ejercicio 10"
      ],
      "metadata": {
        "id": "tMFl68KHZTDm"
      }
    },
    {
      "cell_type": "code",
      "source": [
        "numeros = np.array([50,75,46,22,80,65,8])\n",
        "max = np.max(numeros)\n",
        "min = np.min(numeros)\n",
        "print(max,min)"
      ],
      "metadata": {
        "colab": {
          "base_uri": "https://localhost:8080/"
        },
        "id": "3weLh1T7ZUcP",
        "outputId": "acaa859c-309a-44e1-b6ee-a5470dd09439"
      },
      "execution_count": 91,
      "outputs": [
        {
          "output_type": "stream",
          "name": "stdout",
          "text": [
            "80 8\n"
          ]
        }
      ]
    },
    {
      "cell_type": "markdown",
      "source": [
        "Ejercicio 11"
      ],
      "metadata": {
        "id": "hk2lUY4iZ8gu"
      }
    },
    {
      "cell_type": "code",
      "source": [],
      "metadata": {
        "id": "donpFYiDZ9rW"
      },
      "execution_count": null,
      "outputs": []
    }
  ]
}